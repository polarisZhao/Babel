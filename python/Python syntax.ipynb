{
 "cells": [
  {
   "cell_type": "markdown",
   "metadata": {},
   "source": [
    "### Types\n",
    "**str**, **int**, **float**"
   ]
  },
  {
   "cell_type": "code",
   "execution_count": 1,
   "metadata": {},
   "outputs": [],
   "source": [
    "s = \"Hello!\"   # string\n",
    "age = 3   # integer\n",
    "pi = 3.14  # float"
   ]
  },
  {
   "cell_type": "markdown",
   "metadata": {},
   "source": [
    "**List**    order collection"
   ]
  },
  {
   "cell_type": "code",
   "execution_count": 2,
   "metadata": {},
   "outputs": [
    {
     "data": {
      "text/plain": [
       "['b', 3]"
      ]
     },
     "execution_count": 2,
     "metadata": {},
     "output_type": "execute_result"
    }
   ],
   "source": [
    "a = [\"a\", \"b\", 3]\n",
    "a[0]    # \"a\"\n",
    "a[1]   # \"b\"\n",
    "a[-1]   # 3\n",
    "a[1:3]   # [\"b\", 3]"
   ]
  },
  {
   "cell_type": "markdown",
   "metadata": {},
   "source": [
    "**tuple**   same as list, but immutable"
   ]
  },
  {
   "cell_type": "code",
   "execution_count": 3,
   "metadata": {},
   "outputs": [],
   "source": [
    "a = (\"a\", \"b\", 3)"
   ]
  },
  {
   "cell_type": "markdown",
   "metadata": {},
   "source": [
    "**dict** collection of keys and values"
   ]
  },
  {
   "cell_type": "code",
   "execution_count": 4,
   "metadata": {},
   "outputs": [],
   "source": [
    "a = {\"test\":1, \"b\":\"hello\"}\n",
    "a[\"test\"]   #  1\n",
    "a[\"b\"]      # \"hello\"\n",
    "del a[\"test\"]   # delete \"test\"\n",
    "a[\"c\"] = 3   # add \"c\" to dict"
   ]
  },
  {
   "cell_type": "markdown",
   "metadata": {},
   "source": [
    "**Sets**  \"key-only dict\" with operations"
   ]
  },
  {
   "cell_type": "code",
   "execution_count": 5,
   "metadata": {},
   "outputs": [
    {
     "name": "stdout",
     "output_type": "stream",
     "text": [
      "set([1, 4])\n"
     ]
    }
   ],
   "source": [
    "a ={\"a\", 1, 4, \"b\"}\n",
    "b = {\"a\", \"b\"}\n",
    "print(a-b)   # {1, 4}"
   ]
  },
  {
   "cell_type": "markdown",
   "metadata": {},
   "source": [
    "**list methods**"
   ]
  },
  {
   "cell_type": "code",
   "execution_count": 6,
   "metadata": {},
   "outputs": [],
   "source": [
    "a = [\"a\", \"b\", 3]\n",
    "a.append(4)  # [\"a\", \"b\", 3, 4]\n",
    "a.reverse()   # [4, 3, \"b\", \"a\"]"
   ]
  },
  {
   "cell_type": "markdown",
   "metadata": {},
   "source": [
    "**dict methods**"
   ]
  },
  {
   "cell_type": "code",
   "execution_count": 7,
   "metadata": {},
   "outputs": [
    {
     "data": {
      "text/plain": [
       "[('a', 1), ('b', 2), ('d', 4)]"
      ]
     },
     "execution_count": 7,
     "metadata": {},
     "output_type": "execute_result"
    }
   ],
   "source": [
    "a = {\"a\":1, \"b\":2}\n",
    "a.get(\"c\", 3)  # 3 as default\n",
    "a.update({\"d\":4})  # add more\n",
    "a.keys()  # iterable of keys\n",
    "a.values() # iterable of values\n",
    "a.items() # iterable of both"
   ]
  },
  {
   "cell_type": "markdown",
   "metadata": {},
   "source": [
    "### Input/Output"
   ]
  },
  {
   "cell_type": "markdown",
   "metadata": {},
   "source": [
    "**Prompt user**"
   ]
  },
  {
   "cell_type": "code",
   "execution_count": 8,
   "metadata": {},
   "outputs": [
    {
     "name": "stdout",
     "output_type": "stream",
     "text": [
      "Name? \"zhaozhichao\"\n",
      "('Hi ', 'zhaozhichao')\n"
     ]
    }
   ],
   "source": [
    "name = input(\"Name? \")\n",
    "print(\"Hi \", name)"
   ]
  },
  {
   "cell_type": "markdown",
   "metadata": {},
   "source": [
    "**Write to file** creating if none"
   ]
  },
  {
   "cell_type": "code",
   "execution_count": 9,
   "metadata": {},
   "outputs": [],
   "source": [
    "a = \"Some text for file.txt\"\n",
    "open(\"file.txt\", \"w+\").write(a)"
   ]
  },
  {
   "cell_type": "markdown",
   "metadata": {},
   "source": [
    "**Read from file and convert to str**"
   ]
  },
  {
   "cell_type": "code",
   "execution_count": 10,
   "metadata": {},
   "outputs": [
    {
     "name": "stdout",
     "output_type": "stream",
     "text": [
      "('data:', u'Some text for file.txt')\n"
     ]
    }
   ],
   "source": [
    "a = open(\"file.txt\").read()\n",
    "print(\"data:\", a.decode('utf-8'))"
   ]
  },
  {
   "cell_type": "markdown",
   "metadata": {},
   "source": [
    "### Branching"
   ]
  },
  {
   "cell_type": "markdown",
   "metadata": {},
   "source": [
    "**Basic if** Conditionally execute indent"
   ]
  },
  {
   "cell_type": "code",
   "execution_count": 11,
   "metadata": {},
   "outputs": [
    {
     "name": "stdout",
     "output_type": "stream",
     "text": [
      "impulse buy!\n"
     ]
    }
   ],
   "source": [
    "cost = 4\n",
    "if cost < 10:\n",
    "    print(\"impulse buy!\")"
   ]
  },
  {
   "cell_type": "markdown",
   "metadata": {},
   "source": [
    "**Boolean operators \\\"and\\\" , \\\"or\\\"**"
   ]
  },
  {
   "cell_type": "code",
   "execution_count": 12,
   "metadata": {},
   "outputs": [
    {
     "name": "stdout",
     "output_type": "stream",
     "text": [
      "can get discount\n"
     ]
    }
   ],
   "source": [
    "place = \"UK\"\n",
    "if age > 17 and place == \"UK\":\n",
    "    print(\"can buy alcohol\")\n",
    "if age < 18 or s == \"student\":\n",
    "    print(\"can get discount\")"
   ]
  },
  {
   "cell_type": "markdown",
   "metadata": {},
   "source": [
    "**IF-elif-else**"
   ]
  },
  {
   "cell_type": "code",
   "execution_count": 13,
   "metadata": {},
   "outputs": [
    {
     "name": "stdout",
     "output_type": "stream",
     "text": [
      "Stout\n"
     ]
    }
   ],
   "source": [
    "beer = \"Stonehenge\"\n",
    "if beer == \"Darkwing\":\n",
    "    print(\"IPA\")\n",
    "elif beer == \"Stonehenge\":\n",
    "    print(\"Stout\")\n",
    "else:\n",
    "    print(\"Unkown beer\")"
   ]
  },
  {
   "cell_type": "markdown",
   "metadata": {},
   "source": [
    "**Pass**  placeholder that does nothing"
   ]
  },
  {
   "cell_type": "code",
   "execution_count": 14,
   "metadata": {},
   "outputs": [],
   "source": [
    "if cost > 1.99:\n",
    "    pass # TODO: finish this"
   ]
  },
  {
   "cell_type": "markdown",
   "metadata": {},
   "source": [
    "### Iteration"
   ]
  },
  {
   "cell_type": "markdown",
   "metadata": {},
   "source": [
    "**While loop** . Repeat indented code until condition is no longer true"
   ]
  },
  {
   "cell_type": "code",
   "execution_count": 15,
   "metadata": {},
   "outputs": [
    {
     "name": "stdout",
     "output_type": "stream",
     "text": [
      "('square', 2)\n",
      "('square', 4)\n",
      "('square', 16)\n"
     ]
    }
   ],
   "source": [
    "i = 2\n",
    "while i < 100:\n",
    "    print(\"square\", i)\n",
    "    i = i**2"
   ]
  },
  {
   "cell_type": "markdown",
   "metadata": {},
   "source": [
    "**For loop**  Repeat for each item in iterable"
   ]
  },
  {
   "cell_type": "code",
   "execution_count": 16,
   "metadata": {},
   "outputs": [
    {
     "name": "stdout",
     "output_type": "stream",
     "text": [
      "('name: ', 'John')\n",
      "('name: ', 'Paul')\n",
      "('name: ', 'G')\n",
      "('x:', 0)\n",
      "('x:', 1)\n",
      "('x:', 2)\n",
      "('x:', 3)\n",
      "('x:', 4)\n"
     ]
    }
   ],
   "source": [
    "names = [\"John\", \"Paul\", \"G\"]\n",
    "for name in names:\n",
    "    print(\"name: \", name)\n",
    "for x in range(0, 5):\n",
    "    print(\"x:\", x)"
   ]
  },
  {
   "cell_type": "markdown",
   "metadata": {},
   "source": [
    "**List comprehension**  create a new list while looping"
   ]
  },
  {
   "cell_type": "code",
   "execution_count": 17,
   "metadata": {},
   "outputs": [
    {
     "data": {
      "text/plain": [
       "['john', 'paul']"
      ]
     },
     "execution_count": 17,
     "metadata": {},
     "output_type": "execute_result"
    }
   ],
   "source": [
    "names = [\"John\", \"Paul\", \"G\"]\n",
    "long_names = [\n",
    "    n.lower() for n in names\n",
    "    if len(n) > 2\n",
    "]  # = [\"john\", \"paul\"]\n",
    "long_names"
   ]
  },
  {
   "cell_type": "markdown",
   "metadata": {},
   "source": [
    "**Interruption**   Exit loops prematurely with break, skip to next iteration while with continue"
   ]
  },
  {
   "cell_type": "markdown",
   "metadata": {},
   "source": [
    "### Function"
   ]
  },
  {
   "cell_type": "markdown",
   "metadata": {},
   "source": [
    "**Return value:**  w/positional param"
   ]
  },
  {
   "cell_type": "code",
   "execution_count": 18,
   "metadata": {},
   "outputs": [],
   "source": [
    "def in_file(name):\n",
    "    path = \"./src/\" + name\n",
    "    return path + '.html'\n",
    "path = in_file(\"home\")"
   ]
  },
  {
   "cell_type": "markdown",
   "metadata": {},
   "source": [
    "**Keyword parameters**"
   ]
  },
  {
   "cell_type": "code",
   "execution_count": 19,
   "metadata": {},
   "outputs": [
    {
     "name": "stdout",
     "output_type": "stream",
     "text": [
      "('Hello', 'Jill')\n"
     ]
    }
   ],
   "source": [
    "def greet(name=\"Kack\"):\n",
    "    print(\"Hello\", name)\n",
    "greet(name=\"Jill\")"
   ]
  },
  {
   "cell_type": "markdown",
   "metadata": {},
   "source": [
    "**Variable length arguments**"
   ]
  },
  {
   "cell_type": "code",
   "execution_count": 20,
   "metadata": {},
   "outputs": [
    {
     "name": "stdout",
     "output_type": "stream",
     "text": [
      "{'b': 3}\n"
     ]
    },
    {
     "data": {
      "text/plain": [
       "8"
      ]
     },
     "execution_count": 20,
     "metadata": {},
     "output_type": "execute_result"
    }
   ],
   "source": [
    "def do_all(*args, **kwargs):\n",
    "    print(kwargs) # kwargs is dict\n",
    "    return sum(args)\n",
    "do_all(3, 5, b=3)"
   ]
  },
  {
   "cell_type": "markdown",
   "metadata": {},
   "source": [
    "**Comment**   aka \"docstring\""
   ]
  },
  {
   "cell_type": "code",
   "execution_count": 21,
   "metadata": {},
   "outputs": [
    {
     "name": "stdout",
     "output_type": "stream",
     "text": [
      "('Many', 'cats')\n"
     ]
    }
   ],
   "source": [
    "def plural(word):\n",
    "    \"\"\"\n",
    "    Return the plural of an\n",
    "    English word.\n",
    "    \"\"\"\n",
    "    if word.endswith(\"s\"):\n",
    "        return word + \"es\"\n",
    "    return word + \"s\"\n",
    "print(\"Many\", plural(\"cat\"))"
   ]
  },
  {
   "cell_type": "markdown",
   "metadata": {},
   "source": [
    "**Lambda**   alternative syntax for oneliners"
   ]
  },
  {
   "cell_type": "code",
   "execution_count": 22,
   "metadata": {},
   "outputs": [
    {
     "name": "stdout",
     "output_type": "stream",
     "text": [
      "('5^3 is', 125)\n"
     ]
    }
   ],
   "source": [
    "cubed = lambda i : i**3\n",
    "print(\"5^3 is\", cubed(5))"
   ]
  },
  {
   "cell_type": "markdown",
   "metadata": {},
   "source": [
    "### More "
   ]
  },
  {
   "cell_type": "markdown",
   "metadata": {},
   "source": [
    "**Try/expect**   Handle or ignore errors"
   ]
  },
  {
   "cell_type": "code",
   "execution_count": 23,
   "metadata": {},
   "outputs": [
    {
     "name": "stdout",
     "output_type": "stream",
     "text": [
      "('It broke:', ZeroDivisionError('integer division or modulo by zero',))\n"
     ]
    }
   ],
   "source": [
    "try: big_number = 1/0\n",
    "except Exception as e:\n",
    "    print(\"It broke:\", e)"
   ]
  },
  {
   "cell_type": "markdown",
   "metadata": {},
   "source": [
    "**With**  Execute code in a context"
   ]
  },
  {
   "cell_type": "code",
   "execution_count": 24,
   "metadata": {},
   "outputs": [],
   "source": [
    "with open(\"file.txt\", \"w+\") as f:\n",
    "    f.write(\"test\")"
   ]
  },
  {
   "cell_type": "markdown",
   "metadata": {},
   "source": [
    "**Unpacking assignment Assign** Assign to two or more, good for loops"
   ]
  },
  {
   "cell_type": "code",
   "execution_count": 25,
   "metadata": {},
   "outputs": [
    {
     "name": "stdout",
     "output_type": "stream",
     "text": [
      "50\n",
      "800\n"
     ]
    }
   ],
   "source": [
    "x, y = [35, 15]\n",
    "pairs = [(10,5), (8, 100)]\n",
    "for left, right in pairs:\n",
    "    print(left * right)"
   ]
  },
  {
   "cell_type": "code",
   "execution_count": null,
   "metadata": {},
   "outputs": [],
   "source": []
  }
 ],
 "metadata": {
  "kernelspec": {
   "display_name": "python3",
   "language": "python",
   "name": "python3"
  },
  "language_info": {
   "codemirror_mode": {
    "name": "ipython",
    "version": 2
   },
   "file_extension": ".py",
   "mimetype": "text/x-python",
   "name": "python",
   "nbconvert_exporter": "python",
   "pygments_lexer": "ipython2",
   "version": "2.7.15"
  }
 },
 "nbformat": 4,
 "nbformat_minor": 2
}
